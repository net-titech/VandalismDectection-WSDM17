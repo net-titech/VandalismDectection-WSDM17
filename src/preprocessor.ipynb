{
 "cells": [
  {
   "cell_type": "code",
   "execution_count": 1,
   "metadata": {
    "collapsed": true
   },
   "outputs": [],
   "source": [
    "import pandas as pd\n",
    "import numpy as np\n",
    "\n",
    "from sklearn.preprocessing import LabelEncoder"
   ]
  },
  {
   "cell_type": "code",
   "execution_count": 11,
   "metadata": {
    "collapsed": true
   },
   "outputs": [],
   "source": [
    "def fill_missing_data():\n",
    "    return \"not implemented\"\n",
    "\n",
    "def preprocess_data(data):\n",
    "    review_info = {'revisionId':int}\n",
    "    \n",
    "    #content features (27 features)\n",
    "    character_features = {'groupId':float, 'itemId':float, 'alphanumericRatio':float,'asciiRatio':float,'bracketRatio':float,'digitRatio':float\n",
    "                    ,'latinRatio':float,'longestCharacterSequence':float,'lowerCaseRatio':float\n",
    "                    ,'nonLatinRatio':float,'punctuationRatio':float,'upperCaseRatio':float,'whitespaceRatio':float}    \n",
    "    word_features = {'languageWordRatio':float, 'lowerCaseWordRatio':float, \n",
    "                     'longestWord':float, 'badWordRatio':float, 'proportionOfQidAdded':float, \n",
    "                     'upperCaseWordRatio':float, 'proportionOfLinksAdded':float}\n",
    "    sentence_features = {'commentCommentSimilarity':float, 'commentLabelSimilarity':float, 'commentTailLength':float\n",
    "                         ,'commentSitelinkSimilarity':float}\n",
    "    statement_features = {'propertyFrequency':float, 'itemValueFrequency':float, 'literalValueFrequency':float}\n",
    "    \n",
    "    #contextual features (20 features)\n",
    "     #TODO need to fins mapping column names for the following user features\n",
    "    #'cumUserUniqueItems':float, 'userFrequency':float\n",
    "    word_cat_features = ['containsLanguageWord', 'containsURL']        \n",
    "    user_cat_features = [ 'isPrivilegedUser', 'isRegisteredUser', 'isBotUser', 'userCity', \n",
    "                         'userContinent', 'userCountry', 'userCounty', 'userRegion', 'userTimeZone']\n",
    "    item_features = {'logCumItemUniqueUsers':float, 'logItemFrequency':float}\n",
    "    revision_features = {'commentLength':float}\n",
    "    revision_cat_features = ['isLatinLanguage', 'revisionTag', 'revisionLanguage', 'revisionAction', 'revisionSubaction',\n",
    "                             'positionWithinSession']\n",
    "        \n",
    "    print(\"number of rows: %d\"%data.shape[0])\n",
    "    print(\"number of feaure columns: %d\"%data.shape[1]) \n",
    "    \n",
    "    cat_features = []\n",
    "    cat_features.extend(word_cat_features)\n",
    "    cat_features.extend(user_cat_features)\n",
    "    cat_features.extend(revision_cat_features)\n",
    "    \n",
    "    numerical_features = {}\n",
    "    numerical_features.update(review_info)\n",
    "    numerical_features.update(character_features)\n",
    "    numerical_features.update(word_features)\n",
    "    numerical_features.update(sentence_features)\n",
    "    #numerical_features.update(statement_features) \n",
    "    #numerical_features.update(item_features)\n",
    "    numerical_features.update(revision_features)\n",
    "\n",
    "    selected_feature_list = []\n",
    "    selected_feature_list.extend(numerical_features.keys())\n",
    "    selected_feature_list.extend(cat_features)\n",
    "\n",
    "    #numerical fields with '�' are replaced with -1 \n",
    "    selected_data = data[selected_feature_list]\n",
    "    \n",
    "    #TODO replace missing values with a better approximation (ie: median)\n",
    "    selected_data = selected_data.replace(['�', 'NA'], -1, inplace=False)\n",
    "\n",
    "    for col in numerical_features.keys():\n",
    "        selected_data[col] = selected_data[col].astype(numerical_features[col])\n",
    "\n",
    "    #replacing nan with -1\n",
    "    selected_data.loc[:,list(numerical_features.keys())] = selected_data.loc[:,list(numerical_features.keys())].fillna(-1,inplace=False) \n",
    "    \n",
    "    for col in cat_features:\n",
    "        #print(col)\n",
    "        selected_data[col] = selected_data[col].astype(str)\n",
    "        \n",
    "    #converting categorical variables into numerical lists\n",
    "    le = LabelEncoder()\n",
    "    #TODO pickle these columns\n",
    "\n",
    "    for col in cat_features:\n",
    "        #print(col)\n",
    "        selected_data[col] = le.fit_transform(selected_data[col])\n",
    "        \n",
    "    return selected_data"
   ]
  },
  {
   "cell_type": "code",
   "execution_count": 4,
   "metadata": {
    "collapsed": true
   },
   "outputs": [],
   "source": [
    "features_file = \"/home/kaushalya/Coding/wsdm_cup/vandalism/data/features100k.csv\"\n",
    "output_file = \"/home/kaushalya/Coding/wsdm_cup/vandalism/data/features100k_preprocessed_new.csv\""
   ]
  },
  {
   "cell_type": "code",
   "execution_count": 12,
   "metadata": {
    "collapsed": false
   },
   "outputs": [
    {
     "name": "stdout",
     "output_type": "stream",
     "text": [
      "number of rows: 99999\n",
      "number of feaure columns: 119\n"
     ]
    }
   ],
   "source": [
    "if __name__ == \"__main__\":\n",
    "    #reading data\n",
    "    data = pd.read_csv(features_file, encoding='utf-8',\n",
    "                       header=0)\n",
    "    #labeled_data = pd.read_csv(labeled_data_file, encoding='utf-8', header=0)\n",
    "    preprocessed_data = preprocess_data(data)\n",
    "    \n",
    "    preprocessed_data.to_csv(output_file, index=False)"
   ]
  }
 ],
 "metadata": {
  "anaconda-cloud": {},
  "kernelspec": {
   "display_name": "Python [wsdm17]",
   "language": "python",
   "name": "Python [wsdm17]"
  },
  "language_info": {
   "codemirror_mode": {
    "name": "ipython",
    "version": 3
   },
   "file_extension": ".py",
   "mimetype": "text/x-python",
   "name": "python",
   "nbconvert_exporter": "python",
   "pygments_lexer": "ipython3",
   "version": "3.5.2"
  }
 },
 "nbformat": 4,
 "nbformat_minor": 0
}
