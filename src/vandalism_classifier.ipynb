{
 "cells": [
  {
   "cell_type": "code",
   "execution_count": 105,
   "metadata": {
    "collapsed": false
   },
   "outputs": [],
   "source": [
    "import os\n",
    "import sys\n",
    "import inspect\n",
    "\n",
    "code_path = os.path.join(\"/home/kaushalya/Coding/libs/xgboost/python-package\")\n",
    "sys.path.append(code_path)\n",
    "\n",
    "import pandas as pd\n",
    "import numpy as np\n",
    "\n",
    "from sklearn.ensemble import RandomForestClassifier\n",
    "from sklearn.model_selection import train_test_split\n",
    "from sklearn.metrics import log_loss\n",
    "from sklearn.metrics import precision_recall_curve\n",
    "from sklearn.metrics import average_precision_score\n",
    "from sklearn.metrics import precision_score\n",
    "from sklearn.metrics import recall_score\n",
    "from sklearn.metrics import roc_auc_score\n",
    "from sklearn.metrics import roc_curve\n",
    "from sklearn.metrics import accuracy_score\n",
    "from sklearn.grid_search import GridSearchCV\n",
    "\n",
    "import xgboost as xgb\n",
    "\n",
    "import matplotlib.pyplot as plt\n",
    "import pickle"
   ]
  },
  {
   "cell_type": "code",
   "execution_count": 2,
   "metadata": {
    "collapsed": false
   },
   "outputs": [],
   "source": [
    "def classify():\n",
    "    #TODO implement a general classifier pipeline which can be used for multiple sklearn classifiers\n",
    "    #TODO save the trained models into files\n",
    "    return \"not implemented\"\n",
    "\n",
    "def get_pr_score(y_test, y_pred, plot=True):\n",
    "    precision, recall, _ = precision_recall_curve(y_test, y_pred)\n",
    "    avg_precision = average_precision_score(y_test, y_pred) #area under PR curve\n",
    "    \n",
    "    if plot:\n",
    "        plt.clf()\n",
    "        plt.plot(recall, precision, lw=2, color='navy', label='Precision-Recall curve')\n",
    "        plt.xlabel('Recall')\n",
    "        plt.ylabel('Precision')\n",
    "        plt.title('Precision-Recall curve')\n",
    "        plt.show()\n",
    "    \n",
    "    return avg_precision\n",
    "\n",
    "def get_roc_score(y_test, y_pred, plot=True):\n",
    "    fpr, tpr, _ = roc_curve(y_test, y_pred)\n",
    "    roc_auc = roc_auc_score(y_test, y_pred) #area under PR curve\n",
    "    \n",
    "    if plot:\n",
    "        plt.clf()\n",
    "        plt.plot(fpr, tpr, lw=2, color='navy', label='Precision-Recall curve')\n",
    "        plt.xlabel('False positive rate')\n",
    "        plt.ylabel('True positive rate')\n",
    "        plt.title('ROC curve')\n",
    "        plt.show()\n",
    "    \n",
    "    return roc_auc\n",
    "\n",
    "def run_gridsearch(x_train, y_train):\n",
    "    param_grid = {'n_estimators':[100, 200, 400, 600],\n",
    "                 'max_features':['auto', 'log2'],\n",
    "                 'max_depth':[8, 12, 16, 20]}\n",
    "    \n",
    "    clf = RandomForestClassifier(n_estimators=100, max_depth=8, n_jobs=-1)\n",
    "    \n",
    "    cv_clf = GridSearchCV(estimator=clf, scoring='recall', param_grid=param_grid, cv=5, n_jobs=-1)\n",
    "    cv_clf.fit(x_train, y_train)  \n",
    "    print(cv_clf.best_params_)\n",
    "    \n",
    "    return cv_clf.best_estimator_"
   ]
  },
  {
   "cell_type": "code",
   "execution_count": 12,
   "metadata": {
    "collapsed": false
   },
   "outputs": [],
   "source": [
    "if __name__ == \"__main__\":\n",
    "    training_rows = range(50000)\n",
    "    data = pd.read_csv(\"/home/kaushalya/Coding/wsdm_cup/vandalism/data/features100k_preprocessed_161015_1456.csv\",\n",
    "                       encoding='utf-8', header=0)\n",
    "    labeled_data_file = \"/home/kaushalya/Coding/wsdm_cup/vandalism/data/wikidata-vandalism-corpus-2015/wdvc15-ground-truth.csv\"\n",
    "    labeled_data = pd.read_csv(labeled_data_file, header=0)"
   ]
  },
  {
   "cell_type": "code",
   "execution_count": 15,
   "metadata": {
    "collapsed": false
   },
   "outputs": [],
   "source": [
    "    x_train = data.ix[training_rows, data.columns.difference(['revisionId', 'groupId', 'itemId'])]\n",
    "    y_train = labeled_data.ix[training_rows,'rollback_reverted']\n",
    "    \n",
    "    in_test = ~data.index.isin(training_rows)\n",
    "    x_test = data.ix[in_test,data.columns.difference(['revisionId', 'groupId', 'itemId'])]\n",
    "    y_test = labeled_data.ix[in_test,'rollback_reverted']"
   ]
  },
  {
   "cell_type": "code",
   "execution_count": 24,
   "metadata": {
    "collapsed": false
   },
   "outputs": [],
   "source": [
    "    #TODO feature selection\n",
    "    \n",
    "    #running grid search to set parameters of the model\n",
    "    #clf = run_gridsearch(x_train, y_train)\n",
    "    \n",
    "    #clf.fit(x_train, y_train)\n",
    "    \n",
    "    #xgb_clf.fit(x_train, y_train, eval_metric='auc')"
   ]
  },
  {
   "cell_type": "code",
   "execution_count": 28,
   "metadata": {
    "collapsed": false
   },
   "outputs": [
    {
     "data": {
      "text/plain": [
       "GridSearchCV(cv=5, error_score='raise',\n",
       "       estimator=XGBClassifier(base_score=0.5, colsample_bylevel=1, colsample_bytree=1,\n",
       "       gamma=0, learning_rate=0.1, max_delta_step=0, max_depth=5,\n",
       "       min_child_weight=1, missing=None, n_estimators=500, nthread=-1,\n",
       "       objective='binary:logistic', reg_alpha=0, reg_lambda=1,\n",
       "       scale_pos_weight=1, seed=23, silent=True, subsample=0.8),\n",
       "       fit_params={}, iid=True, n_jobs=-1,\n",
       "       param_grid={'min_child_weight': [1, 3, 5], 'max_depth': [3, 5, 7, 9]},\n",
       "       pre_dispatch='2*n_jobs', refit=True, scoring='roc_auc', verbose=0)"
      ]
     },
     "execution_count": 28,
     "metadata": {},
     "output_type": "execute_result"
    }
   ],
   "source": [
    "#gridsearch for XGB\n",
    "param_test1 = {\n",
    " 'max_depth':[i for i in range(3,10,2)],\n",
    " 'min_child_weight':[i for i in range(1,6,2)]\n",
    "}\n",
    "\n",
    "xgb_clf = xgb.XGBClassifier(objective='binary:logistic', max_depth=5, n_estimators=500, subsample=0.8, \n",
    "                                scale_pos_weight=1, seed=23)\n",
    "gsearch1 = GridSearchCV(estimator=xgb_clf, scoring='roc_auc', param_grid=param_test1, cv=5, n_jobs=-1)\n",
    "gsearch1.fit(x_train, y_train)"
   ]
  },
  {
   "cell_type": "code",
   "execution_count": 102,
   "metadata": {
    "collapsed": false
   },
   "outputs": [
    {
     "data": {
      "text/plain": [
       "({'max_depth': 3, 'min_child_weight': 5}, 0.9386182073888142)"
      ]
     },
     "execution_count": 102,
     "metadata": {},
     "output_type": "execute_result"
    }
   ],
   "source": [
    "gsearch1.best_params_, gsearch1.best_score_"
   ]
  },
  {
   "cell_type": "code",
   "execution_count": 38,
   "metadata": {
    "collapsed": false
   },
   "outputs": [
    {
     "data": {
      "text/plain": [
       "GridSearchCV(cv=5, error_score='raise',\n",
       "       estimator=XGBClassifier(base_score=0.5, colsample_bylevel=1, colsample_bytree=1,\n",
       "       gamma=0, learning_rate=0.1, max_delta_step=0, max_depth=5,\n",
       "       min_child_weight=1, missing=None, n_estimators=500, nthread=-1,\n",
       "       objective='binary:logistic', reg_alpha=0, reg_lambda=1,\n",
       "       scale_pos_weight=1, seed=23, silent=True, subsample=0.8),\n",
       "       fit_params={}, iid=True, n_jobs=-1,\n",
       "       param_grid={'min_child_weight': [4, 5, 6], 'max_depth': [4, 5, 6]},\n",
       "       pre_dispatch='2*n_jobs', refit=True, scoring='roc_auc', verbose=0)"
      ]
     },
     "execution_count": 38,
     "metadata": {},
     "output_type": "execute_result"
    }
   ],
   "source": [
    "param_test2 = {\n",
    " 'max_depth':[4,5,6],\n",
    " 'min_child_weight':[4,5,6]\n",
    "}\n",
    "\n",
    "gsearch2 = GridSearchCV(estimator=xgb_clf, scoring='roc_auc', param_grid=param_test2, cv=5, n_jobs=-1)\n",
    "gsearch2.fit(x_train, y_train)"
   ]
  },
  {
   "cell_type": "code",
   "execution_count": 103,
   "metadata": {
    "collapsed": false
   },
   "outputs": [
    {
     "data": {
      "text/plain": [
       "({'max_depth': 4, 'min_child_weight': 6}, 0.9357471239296851)"
      ]
     },
     "execution_count": 103,
     "metadata": {},
     "output_type": "execute_result"
    }
   ],
   "source": [
    "gsearch2.best_params_, gsearch2.best_score_"
   ]
  },
  {
   "cell_type": "code",
   "execution_count": 57,
   "metadata": {
    "collapsed": false
   },
   "outputs": [
    {
     "data": {
      "text/plain": [
       "GridSearchCV(cv=5, error_score='raise',\n",
       "       estimator=XGBClassifier(base_score=0.5, colsample_bylevel=1, colsample_bytree=1,\n",
       "       gamma=0, learning_rate=0.1, max_delta_step=0, max_depth=4,\n",
       "       min_child_weight=1, missing=None, n_estimators=500, nthread=-1,\n",
       "       objective='binary:logistic', reg_alpha=0, reg_lambda=1,\n",
       "       scale_pos_weight=1, seed=23, silent=True, subsample=0.8),\n",
       "       fit_params={}, iid=True, n_jobs=-1,\n",
       "       param_grid={'min_child_weight': [6, 8, 10, 12]},\n",
       "       pre_dispatch='2*n_jobs', refit=True, scoring='roc_auc', verbose=0)"
      ]
     },
     "execution_count": 57,
     "metadata": {},
     "output_type": "execute_result"
    }
   ],
   "source": [
    "param_test2b = {\n",
    " 'min_child_weight':[6,8,10,12]\n",
    "}\n",
    "\n",
    "xgb_clf = xgb.XGBClassifier(objective='binary:logistic', max_depth=gsearch2.best_params_['max_depth'],\n",
    "                            min_child_weight=gsearch2.best_params_['min_child_weight'], n_estimators=500, subsample=0.8, \n",
    "                                scale_pos_weight=1, seed=23)\n",
    "gsearch2b = GridSearchCV(estimator=xgb_clf, scoring='roc_auc', param_grid=param_test2b, cv=5, n_jobs=-1)\n",
    "gsearch2b.fit(x_train, y_train)"
   ]
  },
  {
   "cell_type": "code",
   "execution_count": 59,
   "metadata": {
    "collapsed": false
   },
   "outputs": [
    {
     "data": {
      "text/plain": [
       "{'min_child_weight': 10}"
      ]
     },
     "execution_count": 59,
     "metadata": {},
     "output_type": "execute_result"
    }
   ],
   "source": [
    "gsearch2b.best_params_, gsearch2b.best_score_"
   ]
  },
  {
   "cell_type": "code",
   "execution_count": 63,
   "metadata": {
    "collapsed": false
   },
   "outputs": [
    {
     "data": {
      "text/plain": [
       "GridSearchCV(cv=5, error_score='raise',\n",
       "       estimator=XGBClassifier(base_score=0.5, colsample_bylevel=1, colsample_bytree=1,\n",
       "       gamma=0, learning_rate=0.1, max_delta_step=0, max_depth=4,\n",
       "       min_child_weight=10, missing=None, n_estimators=500, nthread=-1,\n",
       "       objective='binary:logistic', reg_alpha=0, reg_lambda=1,\n",
       "       scale_pos_weight=1, seed=23, silent=True, subsample=0.8),\n",
       "       fit_params={}, iid=True, n_jobs=-1,\n",
       "       param_grid={'gamma': [0.0, 0.1, 0.2, 0.3, 0.4]},\n",
       "       pre_dispatch='2*n_jobs', refit=True, scoring='roc_auc', verbose=0)"
      ]
     },
     "execution_count": 63,
     "metadata": {},
     "output_type": "execute_result"
    }
   ],
   "source": [
    "param_test3 = {\n",
    " 'gamma':[i/10.0 for i in range(0,5)]\n",
    "} \n",
    "xgb_clf = xgb.XGBClassifier(objective='binary:logistic', max_depth=gsearch2.best_params_['max_depth'],\n",
    "                            min_child_weight=gsearch2b.best_params_['min_child_weight'], n_estimators=500,\n",
    "                            subsample=0.8, scale_pos_weight=1, seed=23)\n",
    "gsearch3 = GridSearchCV(estimator=xgb_clf, scoring='roc_auc', param_grid=param_test3, cv=5, n_jobs=-1)\n",
    "gsearch3.fit(x_train, y_train)"
   ]
  },
  {
   "cell_type": "code",
   "execution_count": 82,
   "metadata": {
    "collapsed": false
   },
   "outputs": [
    {
     "data": {
      "text/plain": [
       "({'gamma': 0.0}, 0.9370839555141003)"
      ]
     },
     "execution_count": 82,
     "metadata": {},
     "output_type": "execute_result"
    }
   ],
   "source": [
    "gsearch3.best_params_, gsearch3.best_score_"
   ]
  },
  {
   "cell_type": "code",
   "execution_count": 67,
   "metadata": {
    "collapsed": false
   },
   "outputs": [
    {
     "data": {
      "text/plain": [
       "GridSearchCV(cv=5, error_score='raise',\n",
       "       estimator=XGBClassifier(base_score=0.5, colsample_bylevel=1, colsample_bytree=1,\n",
       "       gamma=0, learning_rate=0.1, max_delta_step=0, max_depth=4,\n",
       "       min_child_weight=10, missing=None, n_estimators=500, nthread=-1,\n",
       "       objective='binary:logistic', reg_alpha=0, reg_lambda=1,\n",
       "       scale_pos_weight=1, seed=23, silent=True, subsample=0.8),\n",
       "       fit_params={}, iid=True, n_jobs=-1,\n",
       "       param_grid={'subsample': [0.6, 0.7, 0.8, 0.9], 'colsample_bytree': [0.6, 0.7, 0.8, 0.9]},\n",
       "       pre_dispatch='2*n_jobs', refit=True, scoring='roc_auc', verbose=0)"
      ]
     },
     "execution_count": 67,
     "metadata": {},
     "output_type": "execute_result"
    }
   ],
   "source": [
    "param_test4 = {\n",
    " 'subsample':[i/10.0 for i in range(6,10)],\n",
    " 'colsample_bytree':[i/10.0 for i in range(6,10)]\n",
    "}\n",
    "xgb_clf = xgb.XGBClassifier(objective='binary:logistic', max_depth=gsearch2.best_params_['max_depth'],\n",
    "                            min_child_weight=gsearch2b.best_params_['min_child_weight'],\n",
    "                            gamma=gsearch3.best_params_['gamma'],\n",
    "                            n_estimators=500,\n",
    "                            subsample=0.8, scale_pos_weight=1, seed=23)\n",
    "gsearch4 = GridSearchCV(estimator=xgb_clf, scoring='roc_auc', param_grid=param_test4, cv=5, n_jobs=-1)\n",
    "gsearch4.fit(x_train, y_train)"
   ]
  },
  {
   "cell_type": "code",
   "execution_count": 69,
   "metadata": {
    "collapsed": false
   },
   "outputs": [
    {
     "data": {
      "text/plain": [
       "{'colsample_bytree': 0.7, 'subsample': 0.6}"
      ]
     },
     "execution_count": 69,
     "metadata": {},
     "output_type": "execute_result"
    }
   ],
   "source": [
    "gsearch4.best_params_, gsearch4.best_score_"
   ]
  },
  {
   "cell_type": "code",
   "execution_count": 73,
   "metadata": {
    "collapsed": false
   },
   "outputs": [
    {
     "data": {
      "text/plain": [
       "GridSearchCV(cv=5, error_score='raise',\n",
       "       estimator=XGBClassifier(base_score=0.5, colsample_bylevel=1, colsample_bytree=0.7,\n",
       "       gamma=0, learning_rate=0.1, max_delta_step=0, max_depth=4,\n",
       "       min_child_weight=10, missing=None, n_estimators=500, nthread=-1,\n",
       "       objective='binary:logistic', reg_alpha=0, reg_lambda=1,\n",
       "       scale_pos_weight=1, seed=23, silent=True, subsample=0.6),\n",
       "       fit_params={}, iid=True, n_jobs=-1,\n",
       "       param_grid={'reg_alpha': [1e-05, 0.01, 0.1, 1, 100]},\n",
       "       pre_dispatch='2*n_jobs', refit=True, scoring='roc_auc', verbose=0)"
      ]
     },
     "execution_count": 73,
     "metadata": {},
     "output_type": "execute_result"
    }
   ],
   "source": [
    "param_test5 = {\n",
    " 'reg_alpha':[1e-5, 1e-2, 0.1, 1, 100]\n",
    "}\n",
    "xgb_clf = xgb.XGBClassifier(objective='binary:logistic', max_depth=gsearch2.best_params_['max_depth'],\n",
    "                            min_child_weight=gsearch2b.best_params_['min_child_weight'],\n",
    "                            gamma=gsearch3.best_params_['gamma'], \n",
    "                            colsample_bytree=gsearch4.best_params_['colsample_bytree'],\n",
    "                            subsample=gsearch4.best_params_['subsample'],\n",
    "                            n_estimators=500,\n",
    "                            scale_pos_weight=1, seed=23)\n",
    "gsearch5 = GridSearchCV(estimator=xgb_clf, scoring='roc_auc', param_grid=param_test5, cv=5, n_jobs=-1)\n",
    "gsearch5.fit(x_train, y_train)"
   ]
  },
  {
   "cell_type": "code",
   "execution_count": 81,
   "metadata": {
    "collapsed": false
   },
   "outputs": [
    {
     "data": {
      "text/plain": [
       "({'reg_alpha': 1e-05}, 0.9430784377508672)"
      ]
     },
     "execution_count": 81,
     "metadata": {},
     "output_type": "execute_result"
    }
   ],
   "source": [
    "gsearch5.best_params_, gsearch5.best_score_"
   ]
  },
  {
   "cell_type": "code",
   "execution_count": 79,
   "metadata": {
    "collapsed": false
   },
   "outputs": [
    {
     "data": {
      "text/plain": [
       "GridSearchCV(cv=5, error_score='raise',\n",
       "       estimator=XGBClassifier(base_score=0.5, colsample_bylevel=1, colsample_bytree=0.7,\n",
       "       gamma=0, learning_rate=0.1, max_delta_step=0, max_depth=4,\n",
       "       min_child_weight=10, missing=None, n_estimators=500, nthread=-1,\n",
       "       objective='binary:logistic', reg_alpha=0, reg_lambda=1,\n",
       "       scale_pos_weight=1, seed=23, silent=True, subsample=0.6),\n",
       "       fit_params={}, iid=True, n_jobs=-1,\n",
       "       param_grid={'reg_alpha': [1e-06, 1e-05, 0.0001, 0.0005]},\n",
       "       pre_dispatch='2*n_jobs', refit=True, scoring='roc_auc', verbose=0)"
      ]
     },
     "execution_count": 79,
     "metadata": {},
     "output_type": "execute_result"
    }
   ],
   "source": [
    "param_test6 = {\n",
    " 'reg_alpha':[1e-6, 1e-5, 1e-4, 0.0005]\n",
    "}\n",
    "xgb_clf = xgb.XGBClassifier(objective='binary:logistic', max_depth=gsearch2.best_params_['max_depth'],\n",
    "                            min_child_weight=gsearch2b.best_params_['min_child_weight'],\n",
    "                            gamma=gsearch3.best_params_['gamma'], \n",
    "                            colsample_bytree=gsearch4.best_params_['colsample_bytree'],\n",
    "                            subsample=gsearch4.best_params_['subsample'],\n",
    "                            n_estimators=500,\n",
    "                            scale_pos_weight=1, seed=23)\n",
    "gsearch6 = GridSearchCV(estimator=xgb_clf, scoring='roc_auc', param_grid=param_test6, cv=5, n_jobs=-1)\n",
    "gsearch6.fit(x_train, y_train)"
   ]
  },
  {
   "cell_type": "code",
   "execution_count": 87,
   "metadata": {
    "collapsed": false
   },
   "outputs": [
    {
     "data": {
      "text/plain": [
       "({'reg_alpha': 0.0005}, 0.9431158425401045)"
      ]
     },
     "execution_count": 87,
     "metadata": {},
     "output_type": "execute_result"
    }
   ],
   "source": [
    "gsearch6.best_params_, gsearch6.best_score_"
   ]
  },
  {
   "cell_type": "code",
   "execution_count": 92,
   "metadata": {
    "collapsed": false
   },
   "outputs": [
    {
     "data": {
      "text/plain": [
       "XGBClassifier(base_score=0.5, colsample_bylevel=1, colsample_bytree=0.7,\n",
       "       gamma=0, learning_rate=0.01, max_delta_step=0, max_depth=4,\n",
       "       min_child_weight=10, missing=None, n_estimators=1000, nthread=-1,\n",
       "       objective='binary:logistic', reg_alpha=0.0005, reg_lambda=1,\n",
       "       scale_pos_weight=1, seed=23, silent=True, subsample=0.6)"
      ]
     },
     "execution_count": 92,
     "metadata": {},
     "output_type": "execute_result"
    }
   ],
   "source": [
    "#reducing the learning rate and adding more trees to the model\n",
    "clf = xgb.XGBClassifier(objective='binary:logistic', max_depth=gsearch2.best_params_['max_depth'],\n",
    "                            min_child_weight=gsearch2b.best_params_['min_child_weight'],\n",
    "                            gamma=gsearch3.best_params_['gamma'], \n",
    "                            colsample_bytree=gsearch4.best_params_['colsample_bytree'],\n",
    "                            subsample=gsearch4.best_params_['subsample'],\n",
    "                            n_estimators=1000,\n",
    "                            learning_rate=0.01,\n",
    "                            reg_alpha=gsearch6.best_params_['reg_alpha'],\n",
    "                            scale_pos_weight=1, seed=23)\n",
    "clf.fit(x_train, y_train, eval_metric='auc')"
   ]
  },
  {
   "cell_type": "code",
   "execution_count": 119,
   "metadata": {
    "collapsed": false
   },
   "outputs": [
    {
     "name": "stdout",
     "output_type": "stream",
     "text": [
      "accuracy: 0.984840\n"
     ]
    },
    {
     "data": {
      "image/png": "[encoded data removed]",
      "text/plain": [
       "<matplotlib.figure.Figure at 0x7f5c95fcdf60>"
      ]
     },
     "metadata": {},
     "output_type": "display_data"
    },
    {
     "name": "stdout",
     "output_type": "stream",
     "text": [
      "area under PR curve: 0.557080\n",
      "logloss score: 0.043031\n"
     ]
    },
    {
     "data": {
      "image/png": "[encoded data removed]",
      "text/plain": [
       "<matplotlib.figure.Figure at 0x7f5c9915f828>"
      ]
     },
     "metadata": {},
     "output_type": "display_data"
    },
    {
     "name": "stdout",
     "output_type": "stream",
     "text": [
      "ROC-AUC score: 0.957964\n"
     ]
    }
   ],
   "source": [
    "    y_pred_prob = clf.predict_proba(x_test)\n",
    "    y_pred = clf.predict(x_test)\n",
    "\n",
    "    print(\"accuracy: %f\"%accuracy_score(y_test, y_pred))\n",
    "    print(\"area under PR curve: %f\"%get_pr_score(y_test, y_pred_prob[:,1]))\n",
    "    print(\"logloss score: %f\"%log_loss(y_test, y_pred_prob))\n",
    "    print(\"ROC-AUC score: %f\"%get_roc_score(y_test, y_pred_prob[:,1]))"
   ]
  },
  {
   "cell_type": "code",
   "execution_count": 96,
   "metadata": {
    "collapsed": false
   },
   "outputs": [
    {
     "data": {
      "image/png": "[encoded data removed]",
      "text/plain": [
       "<matplotlib.figure.Figure at 0x7f5c9927a390>"
      ]
     },
     "metadata": {},
     "output_type": "display_data"
    }
   ],
   "source": [
    "feat_imp = pd.Series(clf.booster().get_fscore()).sort_values(ascending=False)\n",
    "feat_imp.plot(kind='bar', title='Feature Importances')\n",
    "plt.ylabel('Feature Importance Score')\n",
    "plt.show()"
   ]
  },
  {
   "cell_type": "code",
   "execution_count": 104,
   "metadata": {
    "collapsed": false
   },
   "outputs": [
    {
     "name": "stdout",
     "output_type": "stream",
     "text": [
      "number of features used in the GBM: 30\n"
     ]
    }
   ],
   "source": [
    "print(\"number of features used in the GBM: %d\"%feat_imp.shape[0])"
   ]
  }
 ],
 "metadata": {
  "anaconda-cloud": {},
  "kernelspec": {
   "display_name": "Python [wsdm17]",
   "language": "python",
   "name": "Python [wsdm17]"
  },
  "language_info": {
   "codemirror_mode": {
    "name": "ipython",
    "version": 3
   },
   "file_extension": ".py",
   "mimetype": "text/x-python",
   "name": "python",
   "nbconvert_exporter": "python",
   "pygments_lexer": "ipython3",
   "version": "3.5.2"
  }
 },
 "nbformat": 4,
 "nbformat_minor": 1
}
